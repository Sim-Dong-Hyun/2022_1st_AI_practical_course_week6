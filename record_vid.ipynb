{
  "nbformat": 4,
  "nbformat_minor": 0,
  "metadata": {
    "colab": {
      "name": "Untitled0.ipynb",
      "provenance": [],
      "collapsed_sections": [],
      "authorship_tag": "ABX9TyN6P3SfLX6WHpbADCz7Ew4U",
      "include_colab_link": true
    },
    "kernelspec": {
      "name": "python3",
      "display_name": "Python 3"
    },
    "language_info": {
      "name": "python"
    }
  },
  "cells": [
    {
      "cell_type": "markdown",
      "metadata": {
        "id": "view-in-github",
        "colab_type": "text"
      },
      "source": [
        "<a href=\"https://colab.research.google.com/github/Sim-Dong-Hyun/2022_1st_AI_practical_course_week6/blob/main/record_vid.ipynb\" target=\"_parent\"><img src=\"https://colab.research.google.com/assets/colab-badge.svg\" alt=\"Open In Colab\"/></a>"
      ]
    },
    {
      "cell_type": "code",
      "execution_count": null,
      "metadata": {
        "id": "88czgfjNIlrY"
      },
      "outputs": [],
      "source": [
        "# ! conda install -c conda-forge opencv\n",
        "import cv2\n",
        "import time\n",
        "import datetime\n",
        "\n",
        "fourcc = cv2.VideoWriter_fourcc(*'DIVX')\n",
        "\n",
        "cap = cv2.VideoCapture(1)\n",
        "width = int(cap.get(3)) ; height = int(cap.get(4))\n",
        "fps = 30.0\n",
        "now = datetime.datetime.now()\n",
        "vid_file_name = \"{}.mp4\".format(now.strftime(\"%m%d_%H%M%S\"))\n",
        "vid_file = cv2.VideoWriter(vid_file_name, fourcc, fps, (width, height))\n",
        "\n",
        "strt_time = time.time()\n",
        "\n",
        "print('recording')\n",
        "while(time.time() - strt_time < 15):\n",
        "    ret, frame = cap.read()\n",
        "    cv2.imshow('video',frame)\n",
        "    vid_file.write(frame)\n",
        "\n",
        "    if cv2.waitKey(10) & 0xFF == ord('q'):\n",
        "        break\n",
        "\n",
        "cv2.destroyAllWindows()\n",
        "cap.release()\n",
        "vid_file.release()"
      ]
    }
  ]
}